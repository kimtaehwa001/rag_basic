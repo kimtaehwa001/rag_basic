{
 "cells": [
  {
   "cell_type": "markdown",
   "id": "500b8020",
   "metadata": {},
   "source": [
    "## openai enhanced"
   ]
  }
 ],
 "metadata": {
  "language_info": {
   "name": "python"
  }
 },
 "nbformat": 4,
 "nbformat_minor": 5
}
